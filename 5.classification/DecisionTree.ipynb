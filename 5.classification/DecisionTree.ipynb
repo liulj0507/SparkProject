{
 "cells": [
  {
   "cell_type": "code",
   "execution_count": 9,
   "metadata": {
    "collapsed": false
   },
   "outputs": [
    {
     "name": "stdout",
     "output_type": "stream",
     "text": [
      "/home/zhb/Desktop/work/spark/data/mllib/sample_libsvm_data.txt\n",
      "train data count: 66\n",
      "test data count : 34\n",
      "('Decision Tree Test Error = ', '0.0294117647059')\n",
      "Decision Tree Learned classifiction tree model : \n",
      "DecisionTreeModel classifier of depth 1 with 3 nodes\n",
      "  If (feature 434 <= 0.0)\n",
      "   Predict: 0.0\n",
      "  Else (feature 434 > 0.0)\n",
      "   Predict: 1.0\n",
      "\n"
     ]
    }
   ],
   "source": [
    "# 决策树分类器训练及预测\n",
    "from pyspark.mllib.tree import DecisionTree,DecisionTreeModel\n",
    "from pyspark.mllib.util import MLUtils\n",
    "dataPath = \"/home/zhb/Desktop/work/spark/data/mllib/sample_libsvm_data.txt\"\n",
    "print dataPath\n",
    "\n",
    "data = MLUtils.loadLibSVMFile(sc,dataPath)\n",
    "(trainingData,testData) = data.randomSplit([0.7,0.3])\n",
    "print \"train data count: \" + str(trainingData.count())\n",
    "print \"test data count : \" + str(testData.count())\n",
    "# 训练决策树分类器\n",
    "model = DecisionTree.trainClassifier(trainingData,numClasses = 2,categoricalFeaturesInfo = {},impurity='gini',maxDepth = 5,maxBins = 32)\n",
    "# 测试数据集上预测\n",
    "predictions = model.predict(testData.map(lambda x:x.features))\n",
    "# 打包真实值与预测值\n",
    "labelsAndPredictions = testData.map(lambda lp:lp.label).zip(predictions)\n",
    "# 统计预测错误的样本的频率\n",
    "testErr = labelsAndPredictions.filter(lambda (v,p): v != p).count() / float(testData.count())\n",
    "print('Decision Tree Test Error = ', str(testErr))\n",
    "print(\"Decision Tree Learned classifiction tree model : \")\n",
    "print(model.toDebugString())"
   ]
  },
  {
   "cell_type": "code",
   "execution_count": 10,
   "metadata": {
    "collapsed": false
   },
   "outputs": [
    {
     "name": "stdout",
     "output_type": "stream",
     "text": [
      "('RandomForest Test Error = ', '0.0294117647059')\n",
      "RandomForest Learned classifiction tree model : \n",
      "TreeEnsembleModel classifier with 3 trees\n",
      "\n",
      "  Tree 0:\n",
      "    If (feature 545 <= 2.0)\n",
      "     If (feature 181 <= 0.0)\n",
      "      Predict: 1.0\n",
      "     Else (feature 181 > 0.0)\n",
      "      Predict: 0.0\n",
      "    Else (feature 545 > 2.0)\n",
      "     If (feature 580 <= 9.0)\n",
      "      Predict: 1.0\n",
      "     Else (feature 580 > 9.0)\n",
      "      Predict: 0.0\n",
      "  Tree 1:\n",
      "    If (feature 428 <= 0.0)\n",
      "     If (feature 302 <= 0.0)\n",
      "      If (feature 435 <= 0.0)\n",
      "       If (feature 632 <= 46.0)\n",
      "        Predict: 0.0\n",
      "       Else (feature 632 > 46.0)\n",
      "        Predict: 1.0\n",
      "      Else (feature 435 > 0.0)\n",
      "       Predict: 1.0\n",
      "     Else (feature 302 > 0.0)\n",
      "      Predict: 0.0\n",
      "    Else (feature 428 > 0.0)\n",
      "     Predict: 0.0\n",
      "  Tree 2:\n",
      "    If (feature 300 <= 3.0)\n",
      "     If (feature 486 <= 192.0)\n",
      "      If (feature 184 <= 254.0)\n",
      "       Predict: 1.0\n",
      "      Else (feature 184 > 254.0)\n",
      "       Predict: 0.0\n",
      "     Else (feature 486 > 192.0)\n",
      "      Predict: 0.0\n",
      "    Else (feature 300 > 3.0)\n",
      "     Predict: 0.0\n",
      "\n"
     ]
    }
   ],
   "source": [
    "# 随机森林分类其训练及预测\n",
    "from pyspark.mllib.tree import RandomForest,RandomForestModel\n",
    "# 训练随机森林分类器\n",
    "RF_Model = RandomForest.trainClassifier(trainingData,numClasses = 2,categoricalFeaturesInfo = {},numTrees = 3,featureSubsetStrategy = \"auto\",impurity = 'gini',maxDepth = 4,maxBins = 32)\n",
    "# 测试数据集上预测\n",
    "RF_Predictions = RF_Model.predict(testData.map(lambda x:x.features))\n",
    "# 打包真实值与预测值\n",
    "RF_LabelsAndPredictions = testData.map(lambda lp:lp.label).zip(RF_Predictions)\n",
    "# 统计预测错误的样本的频率\n",
    "RF_TestErr = RF_LabelsAndPredictions.filter(lambda (v,p): v!= p).count() / float(testData.count())\n",
    "print('RandomForest Test Error = ', str(RF_TestErr))\n",
    "print(\"RandomForest Learned classifiction tree model : \")\n",
    "print(RF_Model.toDebugString())"
   ]
  },
  {
   "cell_type": "code",
   "execution_count": 11,
   "metadata": {
    "collapsed": false
   },
   "outputs": [
    {
     "name": "stdout",
     "output_type": "stream",
     "text": [
      "('GradientBoostedTrees Test Error = ', '0.0294117647059')\n",
      "GradientBoostedTrees Learned classifiction tree model : \n",
      "TreeEnsembleModel classifier with 3 trees\n",
      "\n",
      "  Tree 0:\n",
      "    If (feature 434 <= 0.0)\n",
      "     Predict: -1.0\n",
      "    Else (feature 434 > 0.0)\n",
      "     Predict: 1.0\n",
      "  Tree 1:\n",
      "    If (feature 490 <= 31.0)\n",
      "     If (feature 265 <= 0.0)\n",
      "      Predict: -0.4768116880884702\n",
      "     Else (feature 265 > 0.0)\n",
      "      Predict: -0.4768116880884703\n",
      "    Else (feature 490 > 31.0)\n",
      "     Predict: 0.4768116880884701\n",
      "  Tree 2:\n",
      "    If (feature 434 <= 0.0)\n",
      "     If (feature 209 <= 0.0)\n",
      "      Predict: -0.4381935810427206\n",
      "     Else (feature 209 > 0.0)\n",
      "      If (feature 243 <= 96.0)\n",
      "       Predict: -0.4381935810427206\n",
      "      Else (feature 243 > 96.0)\n",
      "       Predict: -0.43819358104272066\n",
      "    Else (feature 434 > 0.0)\n",
      "     If (feature 294 <= 9.0)\n",
      "      Predict: 0.4381935810427206\n",
      "     Else (feature 294 > 9.0)\n",
      "      If (feature 295 <= 103.0)\n",
      "       Predict: 0.4381935810427206\n",
      "      Else (feature 295 > 103.0)\n",
      "       Predict: 0.43819358104272066\n",
      "\n"
     ]
    }
   ],
   "source": [
    "# GBDT分类器训练及预测\n",
    "from pyspark.mllib.tree import GradientBoostedTrees, GradientBoostedTreesModel\n",
    "\n",
    "# 训练GBDT分类器\n",
    "GBDT_Model = GradientBoostedTrees.trainClassifier(trainingData,categoricalFeaturesInfo = {},numIterations = 3)\n",
    "# 测试数据集上预测\n",
    "GBDT_Predictions = GBDT_Model.predict(testData.map(lambda x:x.features))\n",
    "# 打包真实值与预测值\n",
    "GBDT_LabelsAndPredictions = testData.map(lambda lp:lp.label).zip(GBDT_Predictions)\n",
    "# 统计预测错误的样本的频率\n",
    "GBDT_TestErr = GBDT_LabelsAndPredictions.filter(lambda (v,p): v != p).count() / float(testData.count())\n",
    "print('GradientBoostedTrees Test Error = ', str(GBDT_TestErr))\n",
    "print(\"GradientBoostedTrees Learned classifiction tree model : \")\n",
    "print(GBDT_Model.toDebugString())"
   ]
  },
  {
   "cell_type": "code",
   "execution_count": null,
   "metadata": {
    "collapsed": true
   },
   "outputs": [],
   "source": []
  }
 ],
 "metadata": {
  "kernelspec": {
   "display_name": "Python 2",
   "language": "python",
   "name": "python2"
  },
  "language_info": {
   "codemirror_mode": {
    "name": "ipython",
    "version": 2
   },
   "file_extension": ".py",
   "mimetype": "text/x-python",
   "name": "python",
   "nbconvert_exporter": "python",
   "pygments_lexer": "ipython2",
   "version": "2.7.6"
  }
 },
 "nbformat": 4,
 "nbformat_minor": 0
}

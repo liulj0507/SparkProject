{
 "cells": [
  {
   "cell_type": "code",
   "execution_count": 12,
   "metadata": {
    "collapsed": false
   },
   "outputs": [],
   "source": [
    "import  matplotlib.pyplot as plt\n",
    "path = \"/home/zhb/Desktop/work/SparkData/dimension/lfw/Adrien_Brody/Adrien_Brody_0001.jpg\"\n",
    "# 展示图片\n",
    "ae = plt.imread(path)\n",
    "plt.imshow(ae)\n",
    "plt.show()"
   ]
  },
  {
   "cell_type": "code",
   "execution_count": 13,
   "metadata": {
    "collapsed": false
   },
   "outputs": [],
   "source": [
    "# 展示灰度图片\n",
    "tmpPath = \"/home/zhb/aeGrapy.jpg\"\n",
    "aeGary = plt.imread(tmpPath)\n",
    "plt.imshow(aeGary,cmap = plt.cm.gray)\n",
    "plt.show()"
   ]
  },
  {
   "cell_type": "code",
   "execution_count": 1,
   "metadata": {
    "collapsed": false
   },
   "outputs": [
    {
     "name": "stdout",
     "output_type": "stream",
     "text": [
      "(2500, 10)\n"
     ]
    }
   ],
   "source": [
    "# 从csv文件中读取矩阵\n",
    "import numpy as np\n",
    "pcs = np.loadtxt(\"/home/zhb/pc.csv\",delimiter=\",\")\n",
    "print(pcs.shape)"
   ]
  },
  {
   "cell_type": "code",
   "execution_count": 19,
   "metadata": {
    "collapsed": true
   },
   "outputs": [],
   "source": [
    "# 显示图片\n",
    "def plot_gallery(images,h,w,n_row = 2,n_col = 5):\n",
    "    plt.figure(figsize=(1.8 * n_col,2.4 * n_row))\n",
    "    plt.subplots_adjust(bottom = 0,left = .01, right = .99, top = .90,hspace = .35)\n",
    "    for i in range(n_row * n_col):\n",
    "        plt.subplot(n_row, n_col, i+1)\n",
    "        plt.imshow(images[:,i].reshape((h,w)), cmap = plt.cm.gray)\n",
    "        plt.title(\"Eigenface %d\" % (i+1), size = 12)\n",
    "        plt.xticks()\n",
    "        plt.yticks()\n",
    "    plt.show()"
   ]
  },
  {
   "cell_type": "code",
   "execution_count": 20,
   "metadata": {
    "collapsed": false
   },
   "outputs": [],
   "source": [
    "plot_gallery(pcs,50,50)"
   ]
  },
  {
   "cell_type": "code",
   "execution_count": 17,
   "metadata": {
    "collapsed": false
   },
   "outputs": [
    {
     "name": "stdout",
     "output_type": "stream",
     "text": [
      "(300,)\n"
     ]
    }
   ],
   "source": [
    "# 从csv中读回数据，然后对每个k绘制对应的奇异值图\n",
    "s = np.loadtxt(\"/home/zhb/s.csv\",delimiter = \",\")\n",
    "print(s.shape)\n",
    "plt.plot(s)\n",
    "plt.show()"
   ]
  },
  {
   "cell_type": "code",
   "execution_count": 21,
   "metadata": {
    "collapsed": true
   },
   "outputs": [],
   "source": [
    "# 在前300个奇异值的累计和变化曲线中可以看到类似模式，对y轴取了log对数\n",
    "plt.plot(cumsum(s))\n",
    "plt.yscale('log')\n",
    "plt.show()"
   ]
  },
  {
   "cell_type": "code",
   "execution_count": null,
   "metadata": {
    "collapsed": true
   },
   "outputs": [],
   "source": []
  }
 ],
 "metadata": {
  "kernelspec": {
   "display_name": "Python 2",
   "language": "python",
   "name": "python2"
  },
  "language_info": {
   "codemirror_mode": {
    "name": "ipython",
    "version": 2
   },
   "file_extension": ".py",
   "mimetype": "text/x-python",
   "name": "python",
   "nbconvert_exporter": "python",
   "pygments_lexer": "ipython2",
   "version": "2.7.6"
  }
 },
 "nbformat": 4,
 "nbformat_minor": 0
}
